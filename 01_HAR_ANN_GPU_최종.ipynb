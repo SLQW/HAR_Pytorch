{
 "cells": [
  {
   "cell_type": "markdown",
   "metadata": {
    "colab_type": "text",
    "id": "qiVaMkwNSpCx"
   },
   "source": [
    "# 인공신경망 모델의 학습"
   ]
  },
  {
   "cell_type": "markdown",
   "metadata": {},
   "source": [
    "# 학습데이터 불러오기"
   ]
  },
  {
   "cell_type": "code",
   "execution_count": 1,
   "metadata": {},
   "outputs": [
    {
     "name": "stdout",
     "output_type": "stream",
     "text": [
      "(7352, 561)\n",
      "(7352,)\n",
      "(2947, 561)\n",
      "(2947,)\n"
     ]
    }
   ],
   "source": [
    "import os\n",
    "from mpl_toolkits.mplot3d import Axes3D\n",
    "import matplotlib.pyplot as plt\n",
    "import numpy as np\n",
    "import math\n",
    "\n",
    "x_train_path = 'E:/X_train.txt'\n",
    "y_train_path = 'E:/Y_train.txt'\n",
    "x_test_path = 'E:/X_test.txt'\n",
    "y_test_path = 'E:/Y_test.txt'\n",
    "\n",
    "# 파일을 읽어오기\n",
    "f = open(x_train_path, 'r')\n",
    "x_train = f.readlines()\n",
    "f = open(y_train_path, 'r')\n",
    "y_train = f.readlines()\n",
    "f = open(x_test_path, 'r')\n",
    "x_test = f.readlines()\n",
    "f = open(y_test_path, 'r')\n",
    "y_test = f.readlines()\n",
    "\n",
    "# 읽어온 데이터를 1차원 리스트로 변경 # 2947개의 라인\n",
    "x_train = [x for x in x_train]\n",
    "y_train = [y for y in y_train]\n",
    "x_test = [x for x in x_test]\n",
    "y_test = [y for y in y_test]\n",
    "\n",
    "\n",
    "# 리스트에서 마지막에 들어가는 개행문자 제거 rstrip\n",
    "# 한줄로 되어있는 리스트를 128개로 분할 # 128개의 데이터 split\n",
    "for i in range(0, len(x_train)):\n",
    "    x_train[i] = x_train[i].rstrip().split()\n",
    "    y_train[i] = y_train[i].rstrip().split()\n",
    "for i in range(0, len(x_test)):\n",
    "    x_test[i] = x_test[i].rstrip().split()\n",
    "    y_test[i] = y_test[i].rstrip().split()\n",
    "\n",
    "# 리스트를 실수형 넘파이로 변경\n",
    "x_train = np.asarray(x_train, 'float32')\n",
    "y_train = np.asarray(y_train, 'int').ravel()\n",
    "x_test = np.asarray(x_test, 'float32')\n",
    "y_test = np.asarray(y_test, 'int').ravel()\n",
    "\n",
    "print(x_train.shape)\n",
    "print(y_train.shape)\n",
    "print(x_test.shape)\n",
    "print(y_test.shape)"
   ]
  },
  {
   "cell_type": "markdown",
   "metadata": {},
   "source": [
    "## 원핫인코딩(필요시 사용)"
   ]
  },
  {
   "cell_type": "code",
   "execution_count": 2,
   "metadata": {},
   "outputs": [],
   "source": [
    "y_train_onehot = np.zeros([7352,6], 'int')\n",
    "y_test_onehot = np.zeros([2947,6], 'int')\n",
    "\n",
    "for i in range(0, y_train.size):\n",
    "    y_train_onehot[i][y_train[i]-1] = 1\n",
    "for i in range(0, y_test.size):\n",
    "    y_test_onehot[i][y_test[i]-1] = 1"
   ]
  },
  {
   "cell_type": "code",
   "execution_count": 3,
   "metadata": {},
   "outputs": [
    {
     "name": "stdout",
     "output_type": "stream",
     "text": [
      "(7352,)\n",
      "5\n",
      "(7352, 6)\n",
      "[0 0 0 0 1 0]\n",
      "int32\n"
     ]
    }
   ],
   "source": [
    "print(y_train.shape)\n",
    "print(y_train[0])\n",
    "print(y_train_onehot.shape)\n",
    "print(y_train_onehot[0])\n",
    "print(y_train_onehot.dtype)"
   ]
  },
  {
   "cell_type": "markdown",
   "metadata": {
    "colab_type": "text",
    "id": "A0eJo_1TsZIw"
   },
   "source": [
    "## 필요한 라이브러리 불러오기"
   ]
  },
  {
   "cell_type": "code",
   "execution_count": 4,
   "metadata": {
    "colab": {},
    "colab_type": "code",
    "id": "gAIfLqxsSmrJ"
   },
   "outputs": [],
   "source": [
    "import torch\n",
    "import torch.nn as nn\n",
    "import torch.optim as optim\n",
    "import torch.nn.init as init\n",
    "import torch.nn.functional as F\n",
    "from torch.utils.data import Dataset, DataLoader\n",
    "from torch.optim import lr_scheduler"
   ]
  },
  {
   "cell_type": "markdown",
   "metadata": {
    "colab_type": "text",
    "id": "BfXQ4EJ1sR5Y"
   },
   "source": [
    "## 데이터 로더"
   ]
  },
  {
   "cell_type": "code",
   "execution_count": 5,
   "metadata": {
    "scrolled": true
   },
   "outputs": [
    {
     "name": "stdout",
     "output_type": "stream",
     "text": [
      "(7352, 561) float32\n",
      "(7352,) int32\n",
      "(2947, 561) float32\n",
      "(2947,) int32\n"
     ]
    }
   ],
   "source": [
    "print(x_train.shape, x_train.dtype)\n",
    "print(y_train.shape, y_train.dtype)\n",
    "print(x_test.shape, x_test.dtype)\n",
    "print(y_test.shape, y_test.dtype)"
   ]
  },
  {
   "cell_type": "code",
   "execution_count": 6,
   "metadata": {},
   "outputs": [],
   "source": [
    "class data_loader(Dataset):\n",
    "    def __init__(self, samples, labels, t):\n",
    "        self.samples = samples\n",
    "        self.labels = labels\n",
    "        self.T = t\n",
    "\n",
    "    def __getitem__(self, index):\n",
    "        sample, target = self.samples[index], self.labels[index]\n",
    "        if self.T:\n",
    "            return self.T(sample), target\n",
    "        else:\n",
    "            return sample, target\n",
    "\n",
    "    def __len__(self):\n",
    "        return len(self.samples)"
   ]
  },
  {
   "cell_type": "code",
   "execution_count": 7,
   "metadata": {},
   "outputs": [],
   "source": [
    "def load(batch_size):\n",
    "    \n",
    "    transform = None\n",
    "    train_set = data_loader(x_train, y_train, transform)\n",
    "    test_set = data_loader(x_test, y_test, transform)\n",
    "    \n",
    "    train_loader = DataLoader(train_set, batch_size=batch_size, shuffle=True, drop_last=True)\n",
    "    test_loader = DataLoader(test_set, batch_size=batch_size, shuffle=False)\n",
    "    return train_loader, test_loader"
   ]
  },
  {
   "cell_type": "markdown",
   "metadata": {
    "colab_type": "text",
    "id": "KTNOAQgwscKV"
   },
   "source": [
    "# 모델, 손실 함수, 최적화 함수 설정"
   ]
  },
  {
   "cell_type": "code",
   "execution_count": 13,
   "metadata": {},
   "outputs": [],
   "source": [
    "class ANN(nn.Module):\n",
    "    def __init__(self):\n",
    "        super(ANN,self).__init__()\n",
    "        self.layer = nn.Sequential(\n",
    "            nn.Linear(561,250),\n",
    "            nn.ReLU(),\n",
    "            nn.Linear(250,100),\n",
    "            nn.ReLU(),\n",
    "            nn.Linear(100,10),\n",
    "            nn.ReLU(),\n",
    "            nn.Linear(10,6),\n",
    "        )\n",
    "\n",
    "    def forward(self,x):\n",
    "        out = self.layer(x) # self.layer에 정의한 Sequential의 연산을 차례대로 다 실행합니다.\n",
    "        out = F.softmax(out, dim=1)\n",
    "        return out"
   ]
  },
  {
   "cell_type": "markdown",
   "metadata": {},
   "source": [
    "## 하이퍼파라미터"
   ]
  },
  {
   "cell_type": "code",
   "execution_count": 14,
   "metadata": {},
   "outputs": [],
   "source": [
    "epoch = 100\n",
    "batch_size = 256\n",
    "lr = 0.001"
   ]
  },
  {
   "cell_type": "code",
   "execution_count": 15,
   "metadata": {},
   "outputs": [],
   "source": [
    "train_loader, test_loader = load(batch_size=batch_size)"
   ]
  },
  {
   "cell_type": "code",
   "execution_count": 16,
   "metadata": {},
   "outputs": [
    {
     "name": "stdout",
     "output_type": "stream",
     "text": [
      "cuda:0\n"
     ]
    }
   ],
   "source": [
    "# gpu가 사용 가능한 경우에는 device를 gpu로 설정하고 불가능하면 cpu로 설정합니다.\n",
    "device = torch.device(\"cuda:0\" if torch.cuda.is_available() else \"cpu\")\n",
    "print(device)\n",
    "\n",
    "# 모델을 지정한 장치로 올립니다.\n",
    "model = ANN().to(device)\n",
    "\n",
    "# 손실함수로는 크로스엔트로피를 사용합니다.\n",
    "loss_func = nn.CrossEntropyLoss()\n",
    "#loss_func = nn.L1Loss()\n",
    "\n",
    "\n",
    "# 최적화함수로는 Adam을 사용합니다.\n",
    "optimizer = torch.optim.Adam(model.parameters(), lr=lr)\n",
    "#optimizer = optim.SGD(model.parameters(),lr=0.0005)\n",
    "scheduler = lr_scheduler.ReduceLROnPlateau(optimizer,threshold=1,patience=1,mode='min')"
   ]
  },
  {
   "cell_type": "markdown",
   "metadata": {
    "colab_type": "text",
    "id": "Jsy40xAHsiQZ"
   },
   "source": [
    "## 모델의 학습"
   ]
  },
  {
   "cell_type": "code",
   "execution_count": 17,
   "metadata": {
    "colab": {},
    "colab_type": "code",
    "id": "o0jakOd3sJR4"
   },
   "outputs": [],
   "source": [
    "loss_array = []\n",
    "for i in range(epoch):\n",
    "    for j, [image, label] in enumerate(train_loader):\n",
    "        train_x = image.to(device)\n",
    "        train_y = label.to(device).long()\n",
    "        #print(train_x.shape)\n",
    "        #print(train_y.shape)\n",
    "\n",
    "        optimizer.zero_grad()\n",
    "        output = model.forward(train_x)\n",
    "\n",
    "        #print(output)\n",
    "        #print(train_y)\n",
    "        #print(output.dtype)\n",
    "        #print(train_y.dtype)\n",
    "        loss = loss_func(output,train_y)\n",
    "        loss.backward()\n",
    "        optimizer.step()\n",
    "    \n",
    "        loss_array.append(loss)"
   ]
  },
  {
   "cell_type": "markdown",
   "metadata": {
    "colab_type": "text",
    "id": "VLhQK3fUSyUI"
   },
   "source": [
    "## 모델 테스트"
   ]
  },
  {
   "cell_type": "code",
   "execution_count": 20,
   "metadata": {
    "colab": {},
    "colab_type": "code",
    "id": "PpjrdBz6_g3-"
   },
   "outputs": [
    {
     "name": "stdout",
     "output_type": "stream",
     "text": [
      "torch.Size([256]) torch.Size([256])\n",
      "torch.int64 torch.int32\n",
      "torch.Size([256]) torch.Size([256])\n",
      "torch.int64 torch.int32\n",
      "torch.Size([256]) torch.Size([256])\n",
      "torch.int64 torch.int32\n",
      "torch.Size([256]) torch.Size([256])\n",
      "torch.int64 torch.int32\n",
      "torch.Size([256]) torch.Size([256])\n",
      "torch.int64 torch.int32\n",
      "torch.Size([256]) torch.Size([256])\n",
      "torch.int64 torch.int32\n",
      "torch.Size([256]) torch.Size([256])\n",
      "torch.int64 torch.int32\n",
      "torch.Size([256]) torch.Size([256])\n",
      "torch.int64 torch.int32\n",
      "torch.Size([256]) torch.Size([256])\n",
      "torch.int64 torch.int32\n",
      "torch.Size([256]) torch.Size([256])\n",
      "torch.int64 torch.int32\n",
      "torch.Size([256]) torch.Size([256])\n",
      "torch.int64 torch.int32\n",
      "torch.Size([131]) torch.Size([131])\n",
      "torch.int64 torch.int32\n",
      "Accuracy of Test Data: 60.841533763148966%\n"
     ]
    }
   ],
   "source": [
    "# 맞은 개수, 전체 개수를 저장할 변수를 지정합니다.\n",
    "correct = 0\n",
    "total = 0\n",
    "\n",
    "# 인퍼런스 모드를 위해 no_grad 해줍니다.\n",
    "model.eval()\n",
    "with torch.no_grad():\n",
    "    for j, [image, label] in enumerate(test_loader):\n",
    "        # 두 데이터 모두 장치에 올립니다.\n",
    "        x = image.to(device)\n",
    "        y_= label.to(device)\n",
    "\n",
    "        # 모델에 데이터를 넣고 결과값을 얻습니다.\n",
    "        output = model.forward(x)\n",
    "        # 모델 데이터를 CPU로 옮기고 넘파이로 바꾼다음 반올림\n",
    "        #output = np.around(torch.Tensor.cpu(output).numpy())\n",
    "        \n",
    "        _,predicted = torch.max(output,1)\n",
    "        # 전체 개수는 라벨의 개수로 더해줍니다.\n",
    "        # 전체 개수를 알고 있음에도 이렇게 하는 이유는 batch_size, drop_last의 영향으로 몇몇 데이터가 잘릴수도 있기 때문입니다.\n",
    "        total += y_.size(0)\n",
    "        \n",
    "        #y_ = torch.Tensor.cpu(y_).numpy()\n",
    "        \n",
    "        \n",
    "        print(predicted.shape, y_.shape)\n",
    "        print(predicted.dtype, y_.dtype)\n",
    "        # 모델의 결과의 최대값 인덱스와 라벨이 일치하는 개수를 correct에 더해줍니다.\n",
    "        correct += (predicted == y_).sum()#.float()\n",
    "\n",
    "    # 테스트 데이터 전체에 대해 위의 작업을 시행한 후 정확도를 구해줍니다.\n",
    "    print(\"Accuracy of Test Data: {}%\".format(float(correct) * 100 / total))"
   ]
  },
  {
   "cell_type": "markdown",
   "metadata": {},
   "source": [
    "## 결과 출력 /결과 그래프"
   ]
  },
  {
   "cell_type": "code",
   "execution_count": 16,
   "metadata": {
    "scrolled": false
   },
   "outputs": [
    {
     "name": "stdout",
     "output_type": "stream",
     "text": [
      "ANN(\n",
      "  (layer): Sequential(\n",
      "    (0): Linear(in_features=561, out_features=250, bias=True)\n",
      "    (1): ReLU()\n",
      "    (2): Linear(in_features=250, out_features=100, bias=True)\n",
      "    (3): ReLU()\n",
      "    (4): Linear(in_features=100, out_features=10, bias=True)\n",
      "    (5): ReLU()\n",
      "    (6): Linear(in_features=10, out_features=6, bias=True)\n",
      "  )\n",
      ")\n",
      "epoch: 1000  lr: 0.0001  batch size: 256   ACC: 76.55242619613166%\n"
     ]
    }
   ],
   "source": [
    "print(ANN())\n",
    "print(\"epoch: {} \".format(epoch),\n",
    "      \"lr: {} \".format(lr),\n",
    "      \"batch size: {}\".format(batch_size),\n",
    "      \"  ACC: {}%\".format(float(correct) * 100 / total))"
   ]
  },
  {
   "cell_type": "code",
   "execution_count": 17,
   "metadata": {
    "colab": {
     "base_uri": "https://localhost:8080/",
     "height": 269
    },
    "colab_type": "code",
    "executionInfo": {
     "elapsed": 910,
     "status": "ok",
     "timestamp": 1566740166215,
     "user": {
      "displayName": "Gunho Choi",
      "photoUrl": "https://lh3.googleusercontent.com/a-/AAuE7mBSqM0cFU5ZceEDo5gH8hXfSGh8z5BVTu5HgREceg=s64",
      "userId": "04388737836176863066"
     },
     "user_tz": -540
    },
    "id": "sU4yuuC4RePA",
    "outputId": "fd4b103e-f158-4fed-ee59-e2bd15e8c357",
    "scrolled": true
   },
   "outputs": [
    {
     "data": {
      "image/png": "[encoded data removed]",
      "text/plain": [
       "<Figure size 432x288 with 1 Axes>"
      ]
     },
     "metadata": {
      "needs_background": "light"
     },
     "output_type": "display_data"
    }
   ],
   "source": [
    "plt.plot(loss_array)\n",
    "#plt.ylim([0,0.5])\n",
    "plt.show()"
   ]
  },
  {
   "cell_type": "markdown",
   "metadata": {},
   "source": [
    "# 기록"
   ]
  },
  {
   "cell_type": "code",
   "execution_count": 91,
   "metadata": {
    "scrolled": false
   },
   "outputs": [
    {
     "name": "stdout",
     "output_type": "stream",
     "text": [
      "ANN(\n",
      "  (layer): Sequential(\n",
      "    (0): Linear(in_features=561, out_features=250, bias=True)\n",
      "    (1): ReLU()\n",
      "    (2): Linear(in_features=250, out_features=100, bias=True)\n",
      "    (3): ReLU()\n",
      "    (4): Linear(in_features=100, out_features=10, bias=True)\n",
      "    (5): ReLU()\n",
      "    (6): Linear(in_features=10, out_features=6, bias=True)\n",
      "  )\n",
      ")\n",
      "epoch: 100  lr: 0.001  batch size: 919   ACC: 76.58635900916185%\n"
     ]
    }
   ],
   "source": [
    "print(ANN())\n",
    "print(\"epoch: {} \".format(epoch),\n",
    "      \"lr: {} \".format(lr),\n",
    "      \"batch size: {}\".format(batch_size),\n",
    "      \"  ACC: {}%\".format(float(correct) * 100 / total))"
   ]
  },
  {
   "cell_type": "code",
   "execution_count": 92,
   "metadata": {
    "colab": {
     "base_uri": "https://localhost:8080/",
     "height": 269
    },
    "colab_type": "code",
    "executionInfo": {
     "elapsed": 910,
     "status": "ok",
     "timestamp": 1566740166215,
     "user": {
      "displayName": "Gunho Choi",
      "photoUrl": "https://lh3.googleusercontent.com/a-/AAuE7mBSqM0cFU5ZceEDo5gH8hXfSGh8z5BVTu5HgREceg=s64",
      "userId": "04388737836176863066"
     },
     "user_tz": -540
    },
    "id": "sU4yuuC4RePA",
    "outputId": "fd4b103e-f158-4fed-ee59-e2bd15e8c357",
    "scrolled": true
   },
   "outputs": [
    {
     "data": {
      "image/png": "[encoded data removed]",
      "text/plain": [
       "<Figure size 432x288 with 1 Axes>"
      ]
     },
     "metadata": {
      "needs_background": "light"
     },
     "output_type": "display_data"
    }
   ],
   "source": [
    "plt.plot(loss_array)\n",
    "#plt.ylim([0,0.5])\n",
    "plt.show()"
   ]
  },
  {
   "cell_type": "code",
   "execution_count": 97,
   "metadata": {
    "scrolled": true
   },
   "outputs": [
    {
     "name": "stdout",
     "output_type": "stream",
     "text": [
      "ANN(\n",
      "  (layer): Sequential(\n",
      "    (0): Linear(in_features=561, out_features=250, bias=True)\n",
      "    (1): ReLU()\n",
      "    (2): Linear(in_features=250, out_features=100, bias=True)\n",
      "    (3): ReLU()\n",
      "    (4): Linear(in_features=100, out_features=10, bias=True)\n",
      "    (5): ReLU()\n",
      "    (6): Linear(in_features=10, out_features=6, bias=True)\n",
      "  )\n",
      ")\n",
      "epoch: 100  lr: 0.001  batch size: 64   ACC: 74.78791991856124%\n"
     ]
    }
   ],
   "source": [
    "print(ANN())\n",
    "print(\"epoch: {} \".format(epoch),\n",
    "      \"lr: {} \".format(lr),\n",
    "      \"batch size: {}\".format(batch_size),\n",
    "      \"  ACC: {}%\".format(float(correct) * 100 / total))"
   ]
  },
  {
   "cell_type": "code",
   "execution_count": 98,
   "metadata": {
    "colab": {
     "base_uri": "https://localhost:8080/",
     "height": 269
    },
    "colab_type": "code",
    "executionInfo": {
     "elapsed": 910,
     "status": "ok",
     "timestamp": 1566740166215,
     "user": {
      "displayName": "Gunho Choi",
      "photoUrl": "https://lh3.googleusercontent.com/a-/AAuE7mBSqM0cFU5ZceEDo5gH8hXfSGh8z5BVTu5HgREceg=s64",
      "userId": "04388737836176863066"
     },
     "user_tz": -540
    },
    "id": "sU4yuuC4RePA",
    "outputId": "fd4b103e-f158-4fed-ee59-e2bd15e8c357",
    "scrolled": true
   },
   "outputs": [
    {
     "data": {
      "image/png": "[encoded data removed]",
      "text/plain": [
       "<Figure size 432x288 with 1 Axes>"
      ]
     },
     "metadata": {
      "needs_background": "light"
     },
     "output_type": "display_data"
    }
   ],
   "source": [
    "plt.plot(loss_array)\n",
    "#plt.ylim([0,0.5])\n",
    "plt.show()"
   ]
  },
  {
   "cell_type": "code",
   "execution_count": 105,
   "metadata": {
    "scrolled": false
   },
   "outputs": [
    {
     "name": "stdout",
     "output_type": "stream",
     "text": [
      "ANN(\n",
      "  (layer): Sequential(\n",
      "    (0): Linear(in_features=561, out_features=250, bias=True)\n",
      "    (1): ReLU()\n",
      "    (2): Linear(in_features=250, out_features=100, bias=True)\n",
      "    (3): ReLU()\n",
      "    (4): Linear(in_features=100, out_features=10, bias=True)\n",
      "    (5): ReLU()\n",
      "    (6): Linear(in_features=10, out_features=6, bias=True)\n",
      "  )\n",
      ")\n",
      "epoch: 1000  lr: 0.0005  batch size: 512   ACC: 77.63827621309807%\n"
     ]
    }
   ],
   "source": [
    "print(ANN())\n",
    "print(\"epoch: {} \".format(epoch),\n",
    "      \"lr: {} \".format(lr),\n",
    "      \"batch size: {}\".format(batch_size),\n",
    "      \"  ACC: {}%\".format(float(correct) * 100 / total))"
   ]
  },
  {
   "cell_type": "code",
   "execution_count": 106,
   "metadata": {
    "colab": {
     "base_uri": "https://localhost:8080/",
     "height": 269
    },
    "colab_type": "code",
    "executionInfo": {
     "elapsed": 910,
     "status": "ok",
     "timestamp": 1566740166215,
     "user": {
      "displayName": "Gunho Choi",
      "photoUrl": "https://lh3.googleusercontent.com/a-/AAuE7mBSqM0cFU5ZceEDo5gH8hXfSGh8z5BVTu5HgREceg=s64",
      "userId": "04388737836176863066"
     },
     "user_tz": -540
    },
    "id": "sU4yuuC4RePA",
    "outputId": "fd4b103e-f158-4fed-ee59-e2bd15e8c357",
    "scrolled": false
   },
   "outputs": [
    {
     "data": {
      "image/png": "[encoded data removed]",
      "text/plain": [
       "<Figure size 432x288 with 1 Axes>"
      ]
     },
     "metadata": {
      "needs_background": "light"
     },
     "output_type": "display_data"
    }
   ],
   "source": [
    "plt.plot(loss_array)\n",
    "#plt.ylim([0,0.5])\n",
    "plt.show()"
   ]
  },
  {
   "cell_type": "code",
   "execution_count": 112,
   "metadata": {
    "scrolled": false
   },
   "outputs": [
    {
     "name": "stdout",
     "output_type": "stream",
     "text": [
      "ANN(\n",
      "  (layer): Sequential(\n",
      "    (0): Linear(in_features=561, out_features=250, bias=True)\n",
      "    (1): ReLU()\n",
      "    (2): Linear(in_features=250, out_features=100, bias=True)\n",
      "    (3): ReLU()\n",
      "    (4): Linear(in_features=100, out_features=10, bias=True)\n",
      "    (5): ReLU()\n",
      "    (6): Linear(in_features=10, out_features=6, bias=True)\n",
      "  )\n",
      ")\n",
      "epoch: 10000  lr: 0.0001  batch size: 919   ACC: 76.95961995249407%\n"
     ]
    }
   ],
   "source": [
    "print(ANN())\n",
    "print(\"epoch: {} \".format(epoch),\n",
    "      \"lr: {} \".format(lr),\n",
    "      \"batch size: {}\".format(batch_size),\n",
    "      \"  ACC: {}%\".format(float(correct) * 100 / total))"
   ]
  },
  {
   "cell_type": "code",
   "execution_count": 113,
   "metadata": {
    "colab": {
     "base_uri": "https://localhost:8080/",
     "height": 269
    },
    "colab_type": "code",
    "executionInfo": {
     "elapsed": 910,
     "status": "ok",
     "timestamp": 1566740166215,
     "user": {
      "displayName": "Gunho Choi",
      "photoUrl": "https://lh3.googleusercontent.com/a-/AAuE7mBSqM0cFU5ZceEDo5gH8hXfSGh8z5BVTu5HgREceg=s64",
      "userId": "04388737836176863066"
     },
     "user_tz": -540
    },
    "id": "sU4yuuC4RePA",
    "outputId": "fd4b103e-f158-4fed-ee59-e2bd15e8c357",
    "scrolled": false
   },
   "outputs": [
    {
     "data": {
      "image/png": "[encoded data removed]",
      "text/plain": [
       "<Figure size 432x288 with 1 Axes>"
      ]
     },
     "metadata": {
      "needs_background": "light"
     },
     "output_type": "display_data"
    }
   ],
   "source": [
    "plt.plot(loss_array)\n",
    "#plt.ylim([0,0.5])\n",
    "plt.show()"
   ]
  },
  {
   "cell_type": "code",
   "execution_count": 16,
   "metadata": {
    "scrolled": false
   },
   "outputs": [
    {
     "name": "stdout",
     "output_type": "stream",
     "text": [
      "ANN(\n",
      "  (layer): Sequential(\n",
      "    (0): Linear(in_features=561, out_features=250, bias=True)\n",
      "    (1): ReLU()\n",
      "    (2): Linear(in_features=250, out_features=100, bias=True)\n",
      "    (3): ReLU()\n",
      "    (4): Linear(in_features=100, out_features=10, bias=True)\n",
      "    (5): ReLU()\n",
      "    (6): Linear(in_features=10, out_features=6, bias=True)\n",
      "  )\n",
      ")\n",
      "epoch: 1000  lr: 0.0001  batch size: 256   ACC: 76.55242619613166%\n"
     ]
    }
   ],
   "source": [
    "print(ANN())\n",
    "print(\"epoch: {} \".format(epoch),\n",
    "      \"lr: {} \".format(lr),\n",
    "      \"batch size: {}\".format(batch_size),\n",
    "      \"  ACC: {}%\".format(float(correct) * 100 / total))"
   ]
  },
  {
   "cell_type": "code",
   "execution_count": 17,
   "metadata": {
    "colab": {
     "base_uri": "https://localhost:8080/",
     "height": 269
    },
    "colab_type": "code",
    "executionInfo": {
     "elapsed": 910,
     "status": "ok",
     "timestamp": 1566740166215,
     "user": {
      "displayName": "Gunho Choi",
      "photoUrl": "https://lh3.googleusercontent.com/a-/AAuE7mBSqM0cFU5ZceEDo5gH8hXfSGh8z5BVTu5HgREceg=s64",
      "userId": "04388737836176863066"
     },
     "user_tz": -540
    },
    "id": "sU4yuuC4RePA",
    "outputId": "fd4b103e-f158-4fed-ee59-e2bd15e8c357",
    "scrolled": true
   },
   "outputs": [
    {
     "data": {
      "image/png": "[encoded data removed]",
      "text/plain": [
       "<Figure size 432x288 with 1 Axes>"
      ]
     },
     "metadata": {
      "needs_background": "light"
     },
     "output_type": "display_data"
    }
   ],
   "source": [
    "plt.plot(loss_array)\n",
    "#plt.ylim([0,0.5])\n",
    "plt.show()"
   ]
  }
 ],
 "metadata": {
  "colab": {
   "collapsed_sections": [],
   "name": "4.4 인공신경망 실습.ipynb",
   "provenance": [],
   "version": "0.3.2"
  },
  "kernelspec": {
   "display_name": "Python 3",
   "language": "python",
   "name": "python3"
  },
  "language_info": {
   "codemirror_mode": {
    "name": "ipython",
    "version": 3
   },
   "file_extension": ".py",
   "mimetype": "text/x-python",
   "name": "python",
   "nbconvert_exporter": "python",
   "pygments_lexer": "ipython3",
   "version": "3.7.6"
  },
  "pycharm": {
   "stem_cell": {
    "cell_type": "raw",
    "source": [],
    "metadata": {
     "collapsed": false
    }
   }
  }
 },
 "nbformat": 4,
 "nbformat_minor": 1
}